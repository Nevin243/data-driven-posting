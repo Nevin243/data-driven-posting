{
 "cells": [
  {
   "cell_type": "markdown",
   "metadata": {},
   "source": [
    "# Imports & Setup"
   ]
  },
  {
   "cell_type": "code",
   "execution_count": 2,
   "metadata": {},
   "outputs": [],
   "source": [
    "import pandas as pd\n",
    "import matplotlib.pyplot as plt\n",
    "import seaborn as sns\n",
    "import datetime as dt\n",
    "from scipy import stats\n",
    "import numpy as np\n",
    "%matplotlib inline"
   ]
  },
  {
   "cell_type": "markdown",
   "metadata": {},
   "source": [
    "# Getting Data"
   ]
  },
  {
   "cell_type": "markdown",
   "metadata": {},
   "source": [
    "Set up a generator to read lines from the file"
   ]
  },
  {
   "cell_type": "code",
   "execution_count": 3,
   "metadata": {},
   "outputs": [],
   "source": [
    "def json_line_gen(file_name):\n",
    "    for row in open(file_name, \"r\"):\n",
    "        yield row"
   ]
  },
  {
   "cell_type": "markdown",
   "metadata": {},
   "source": [
    "Append the lines taken from the generator to the Dataframe"
   ]
  },
  {
   "cell_type": "code",
   "execution_count": 8,
   "metadata": {},
   "outputs": [],
   "source": [
    "json_response = json_line_gen('./../data/raw.json')\n",
    "\n",
    "df = pd.DataFrame()\n",
    "\n",
    "for json in json_response:\n",
    "    df = df.append(pd.read_json(json), sort=False)"
   ]
  },
  {
   "cell_type": "code",
   "execution_count": 9,
   "metadata": {},
   "outputs": [
    {
     "data": {
      "text/plain": [
       "(16770, 25)"
      ]
     },
     "execution_count": 9,
     "metadata": {},
     "output_type": "execute_result"
    }
   ],
   "source": [
    "# Have we got our data?\n",
    "df.shape"
   ]
  },
  {
   "cell_type": "markdown",
   "metadata": {},
   "source": [
    "# Clean-up & Prep"
   ]
  },
  {
   "cell_type": "markdown",
   "metadata": {},
   "source": [
    "We need to clean and prep our data before doing some visualization"
   ]
  },
  {
   "cell_type": "code",
   "execution_count": 10,
   "metadata": {},
   "outputs": [],
   "source": [
    "# Data has an ID - lets use it\n",
    "df = df.set_index(\"id\")"
   ]
  },
  {
   "cell_type": "code",
   "execution_count": 11,
   "metadata": {},
   "outputs": [],
   "source": [
    "unwanted_columns = [\"canonical_url\", \"collection_id\", \"cover_image\", \"created_at\",\"crossposted_at\", \\\n",
    "                    \"description\", \"edited_at\", \"flare_tag\", \"path\", \"readable_publish_date\", \"slug\", \\\n",
    "                    \"social_image\", \"type_of\", \"user\", \"last_comment_at\", \"organization\"]\n",
    "\n",
    "df = df.drop(columns=unwanted_columns)"
   ]
  },
  {
   "cell_type": "code",
   "execution_count": 12,
   "metadata": {},
   "outputs": [],
   "source": [
    "# Splitting Timestamp into hour and day of week\n",
    "df['hour'] = pd.to_datetime(df['published_at']).dt.hour\n",
    "df['day_of_week'] = pd.to_datetime(df['published_at']).dt.strftime('%A')"
   ]
  },
  {
   "cell_type": "code",
   "execution_count": 13,
   "metadata": {},
   "outputs": [
    {
     "data": {
      "text/html": [
       "<div>\n",
       "<style scoped>\n",
       "    .dataframe tbody tr th:only-of-type {\n",
       "        vertical-align: middle;\n",
       "    }\n",
       "\n",
       "    .dataframe tbody tr th {\n",
       "        vertical-align: top;\n",
       "    }\n",
       "\n",
       "    .dataframe thead th {\n",
       "        text-align: right;\n",
       "    }\n",
       "</style>\n",
       "<table border=\"1\" class=\"dataframe\">\n",
       "  <thead>\n",
       "    <tr style=\"text-align: right;\">\n",
       "      <th></th>\n",
       "      <th>title</th>\n",
       "      <th>url</th>\n",
       "      <th>comments_count</th>\n",
       "      <th>positive_reactions_count</th>\n",
       "      <th>published_at</th>\n",
       "      <th>published_timestamp</th>\n",
       "      <th>tag_list</th>\n",
       "      <th>tags</th>\n",
       "      <th>hour</th>\n",
       "      <th>day_of_week</th>\n",
       "    </tr>\n",
       "    <tr>\n",
       "      <th>id</th>\n",
       "      <th></th>\n",
       "      <th></th>\n",
       "      <th></th>\n",
       "      <th></th>\n",
       "      <th></th>\n",
       "      <th></th>\n",
       "      <th></th>\n",
       "      <th></th>\n",
       "      <th></th>\n",
       "      <th></th>\n",
       "    </tr>\n",
       "  </thead>\n",
       "  <tbody>\n",
       "    <tr>\n",
       "      <th>270484</th>\n",
       "      <td>Browsing a localhost server from any device in...</td>\n",
       "      <td>https://dev.to/fdoxyz/browsing-a-localhost-ser...</td>\n",
       "      <td>5</td>\n",
       "      <td>36</td>\n",
       "      <td>2020-03-02 22:18:49+00:00</td>\n",
       "      <td>2020-03-02T22:18:49Z</td>\n",
       "      <td>[beginners, webdev, mobile]</td>\n",
       "      <td>beginners, webdev, mobile</td>\n",
       "      <td>22</td>\n",
       "      <td>Monday</td>\n",
       "    </tr>\n",
       "    <tr>\n",
       "      <th>272982</th>\n",
       "      <td>What it's like to be a technical female founde...</td>\n",
       "      <td>https://dev.to/rhiannonmonks/what-it-s-like-to...</td>\n",
       "      <td>3</td>\n",
       "      <td>17</td>\n",
       "      <td>2020-03-03 02:05:31+00:00</td>\n",
       "      <td>2020-03-03T02:05:31Z</td>\n",
       "      <td>[shecoded]</td>\n",
       "      <td>shecoded</td>\n",
       "      <td>2</td>\n",
       "      <td>Tuesday</td>\n",
       "    </tr>\n",
       "    <tr>\n",
       "      <th>272396</th>\n",
       "      <td>Node-secure release v0.5.0</td>\n",
       "      <td>https://dev.to/fraxken/node-secure-release-v0-...</td>\n",
       "      <td>2</td>\n",
       "      <td>34</td>\n",
       "      <td>2020-03-02 19:47:14+00:00</td>\n",
       "      <td>2020-03-02T19:47:14Z</td>\n",
       "      <td>[javascript, node, npm, security]</td>\n",
       "      <td>javascript, node, npm, security</td>\n",
       "      <td>19</td>\n",
       "      <td>Monday</td>\n",
       "    </tr>\n",
       "    <tr>\n",
       "      <th>272318</th>\n",
       "      <td>Stackoverflow Survey Thoughts</td>\n",
       "      <td>https://dev.to/thinkster/stackoverflow-survey-...</td>\n",
       "      <td>6</td>\n",
       "      <td>28</td>\n",
       "      <td>2020-03-02 16:55:20+00:00</td>\n",
       "      <td>2020-03-02T16:55:20Z</td>\n",
       "      <td>[webdev, productivity, computerscience]</td>\n",
       "      <td>webdev, productivity, computerscience</td>\n",
       "      <td>16</td>\n",
       "      <td>Monday</td>\n",
       "    </tr>\n",
       "    <tr>\n",
       "      <th>272345</th>\n",
       "      <td>Nevertheless, Claire Collins Coded</td>\n",
       "      <td>https://dev.to/clairec/nevertheless-claire-col...</td>\n",
       "      <td>2</td>\n",
       "      <td>22</td>\n",
       "      <td>2020-03-02 18:00:53+00:00</td>\n",
       "      <td>2020-03-02T18:00:53Z</td>\n",
       "      <td>[shecoded]</td>\n",
       "      <td>shecoded</td>\n",
       "      <td>18</td>\n",
       "      <td>Monday</td>\n",
       "    </tr>\n",
       "  </tbody>\n",
       "</table>\n",
       "</div>"
      ],
      "text/plain": [
       "                                                    title  \\\n",
       "id                                                          \n",
       "270484  Browsing a localhost server from any device in...   \n",
       "272982  What it's like to be a technical female founde...   \n",
       "272396                         Node-secure release v0.5.0   \n",
       "272318                      Stackoverflow Survey Thoughts   \n",
       "272345                 Nevertheless, Claire Collins Coded   \n",
       "\n",
       "                                                      url  comments_count  \\\n",
       "id                                                                          \n",
       "270484  https://dev.to/fdoxyz/browsing-a-localhost-ser...               5   \n",
       "272982  https://dev.to/rhiannonmonks/what-it-s-like-to...               3   \n",
       "272396  https://dev.to/fraxken/node-secure-release-v0-...               2   \n",
       "272318  https://dev.to/thinkster/stackoverflow-survey-...               6   \n",
       "272345  https://dev.to/clairec/nevertheless-claire-col...               2   \n",
       "\n",
       "        positive_reactions_count              published_at  \\\n",
       "id                                                           \n",
       "270484                        36 2020-03-02 22:18:49+00:00   \n",
       "272982                        17 2020-03-03 02:05:31+00:00   \n",
       "272396                        34 2020-03-02 19:47:14+00:00   \n",
       "272318                        28 2020-03-02 16:55:20+00:00   \n",
       "272345                        22 2020-03-02 18:00:53+00:00   \n",
       "\n",
       "         published_timestamp                                 tag_list  \\\n",
       "id                                                                      \n",
       "270484  2020-03-02T22:18:49Z              [beginners, webdev, mobile]   \n",
       "272982  2020-03-03T02:05:31Z                               [shecoded]   \n",
       "272396  2020-03-02T19:47:14Z        [javascript, node, npm, security]   \n",
       "272318  2020-03-02T16:55:20Z  [webdev, productivity, computerscience]   \n",
       "272345  2020-03-02T18:00:53Z                               [shecoded]   \n",
       "\n",
       "                                         tags  hour day_of_week  \n",
       "id                                                               \n",
       "270484              beginners, webdev, mobile    22      Monday  \n",
       "272982                               shecoded     2     Tuesday  \n",
       "272396        javascript, node, npm, security    19      Monday  \n",
       "272318  webdev, productivity, computerscience    16      Monday  \n",
       "272345                               shecoded    18      Monday  "
      ]
     },
     "execution_count": 13,
     "metadata": {},
     "output_type": "execute_result"
    }
   ],
   "source": [
    "# What's this look like?\n",
    "df.head()"
   ]
  },
  {
   "cell_type": "markdown",
   "metadata": {},
   "source": [
    "# Getting a reaction heatmap"
   ]
  },
  {
   "cell_type": "code",
   "execution_count": 14,
   "metadata": {},
   "outputs": [],
   "source": [
    "#Group by day and hour for average reaction\n",
    "reaction_df = df.groupby([\"day_of_week\", \"hour\"]) [\"positive_reactions_count\"].mean()\n",
    "\n",
    "#pivot and arrange columns\n",
    "reaction_df = reaction_df.reset_index().pivot('hour', 'day_of_week', 'positive_reactions_count')\n",
    "reaction_df = reaction_df[[\"Monday\", \"Tuesday\", \"Wednesday\", \"Thursday\", \"Friday\", \"Saturday\", \"Sunday\"]]"
   ]
  },
  {
   "cell_type": "code",
   "execution_count": 15,
   "metadata": {},
   "outputs": [
    {
     "data": {
      "text/html": [
       "<div>\n",
       "<style scoped>\n",
       "    .dataframe tbody tr th:only-of-type {\n",
       "        vertical-align: middle;\n",
       "    }\n",
       "\n",
       "    .dataframe tbody tr th {\n",
       "        vertical-align: top;\n",
       "    }\n",
       "\n",
       "    .dataframe thead th {\n",
       "        text-align: right;\n",
       "    }\n",
       "</style>\n",
       "<table border=\"1\" class=\"dataframe\">\n",
       "  <thead>\n",
       "    <tr style=\"text-align: right;\">\n",
       "      <th>day_of_week</th>\n",
       "      <th>Monday</th>\n",
       "      <th>Tuesday</th>\n",
       "      <th>Wednesday</th>\n",
       "      <th>Thursday</th>\n",
       "      <th>Friday</th>\n",
       "      <th>Saturday</th>\n",
       "      <th>Sunday</th>\n",
       "    </tr>\n",
       "    <tr>\n",
       "      <th>hour</th>\n",
       "      <th></th>\n",
       "      <th></th>\n",
       "      <th></th>\n",
       "      <th></th>\n",
       "      <th></th>\n",
       "      <th></th>\n",
       "      <th></th>\n",
       "    </tr>\n",
       "  </thead>\n",
       "  <tbody>\n",
       "    <tr>\n",
       "      <th>0</th>\n",
       "      <td>54.101010</td>\n",
       "      <td>58.785714</td>\n",
       "      <td>92.723577</td>\n",
       "      <td>48.670588</td>\n",
       "      <td>58.367816</td>\n",
       "      <td>50.483871</td>\n",
       "      <td>56.701031</td>\n",
       "    </tr>\n",
       "    <tr>\n",
       "      <th>1</th>\n",
       "      <td>67.737705</td>\n",
       "      <td>75.095238</td>\n",
       "      <td>87.153846</td>\n",
       "      <td>75.271186</td>\n",
       "      <td>54.258065</td>\n",
       "      <td>66.446809</td>\n",
       "      <td>81.671875</td>\n",
       "    </tr>\n",
       "    <tr>\n",
       "      <th>2</th>\n",
       "      <td>70.333333</td>\n",
       "      <td>65.846154</td>\n",
       "      <td>63.533333</td>\n",
       "      <td>74.430556</td>\n",
       "      <td>51.645161</td>\n",
       "      <td>39.309524</td>\n",
       "      <td>48.434783</td>\n",
       "    </tr>\n",
       "    <tr>\n",
       "      <th>3</th>\n",
       "      <td>70.255814</td>\n",
       "      <td>100.712121</td>\n",
       "      <td>67.403509</td>\n",
       "      <td>53.266667</td>\n",
       "      <td>45.103448</td>\n",
       "      <td>63.857143</td>\n",
       "      <td>44.500000</td>\n",
       "    </tr>\n",
       "    <tr>\n",
       "      <th>4</th>\n",
       "      <td>61.061224</td>\n",
       "      <td>55.057692</td>\n",
       "      <td>52.964912</td>\n",
       "      <td>49.222222</td>\n",
       "      <td>49.474576</td>\n",
       "      <td>62.621622</td>\n",
       "      <td>55.119048</td>\n",
       "    </tr>\n",
       "    <tr>\n",
       "      <th>5</th>\n",
       "      <td>49.823529</td>\n",
       "      <td>86.725490</td>\n",
       "      <td>85.733333</td>\n",
       "      <td>36.940000</td>\n",
       "      <td>48.553571</td>\n",
       "      <td>51.166667</td>\n",
       "      <td>62.555556</td>\n",
       "    </tr>\n",
       "    <tr>\n",
       "      <th>6</th>\n",
       "      <td>91.223881</td>\n",
       "      <td>57.327273</td>\n",
       "      <td>49.442308</td>\n",
       "      <td>51.594595</td>\n",
       "      <td>67.106061</td>\n",
       "      <td>56.175000</td>\n",
       "      <td>65.395833</td>\n",
       "    </tr>\n",
       "    <tr>\n",
       "      <th>7</th>\n",
       "      <td>79.851852</td>\n",
       "      <td>63.403846</td>\n",
       "      <td>59.272727</td>\n",
       "      <td>57.061538</td>\n",
       "      <td>49.325000</td>\n",
       "      <td>52.318182</td>\n",
       "      <td>47.781250</td>\n",
       "    </tr>\n",
       "    <tr>\n",
       "      <th>8</th>\n",
       "      <td>72.734177</td>\n",
       "      <td>113.527473</td>\n",
       "      <td>79.448718</td>\n",
       "      <td>75.783784</td>\n",
       "      <td>52.972603</td>\n",
       "      <td>63.481481</td>\n",
       "      <td>58.820513</td>\n",
       "    </tr>\n",
       "    <tr>\n",
       "      <th>9</th>\n",
       "      <td>41.570000</td>\n",
       "      <td>87.924731</td>\n",
       "      <td>40.523810</td>\n",
       "      <td>63.397436</td>\n",
       "      <td>45.607595</td>\n",
       "      <td>43.196078</td>\n",
       "      <td>41.615385</td>\n",
       "    </tr>\n",
       "    <tr>\n",
       "      <th>10</th>\n",
       "      <td>44.445652</td>\n",
       "      <td>44.964286</td>\n",
       "      <td>53.050633</td>\n",
       "      <td>65.211538</td>\n",
       "      <td>44.710843</td>\n",
       "      <td>85.857143</td>\n",
       "      <td>55.298246</td>\n",
       "    </tr>\n",
       "    <tr>\n",
       "      <th>11</th>\n",
       "      <td>85.610619</td>\n",
       "      <td>70.711538</td>\n",
       "      <td>63.010638</td>\n",
       "      <td>100.028037</td>\n",
       "      <td>88.862069</td>\n",
       "      <td>78.902439</td>\n",
       "      <td>49.305556</td>\n",
       "    </tr>\n",
       "    <tr>\n",
       "      <th>12</th>\n",
       "      <td>84.557692</td>\n",
       "      <td>102.964789</td>\n",
       "      <td>85.869565</td>\n",
       "      <td>84.715385</td>\n",
       "      <td>65.037037</td>\n",
       "      <td>66.474576</td>\n",
       "      <td>54.480000</td>\n",
       "    </tr>\n",
       "    <tr>\n",
       "      <th>13</th>\n",
       "      <td>85.192118</td>\n",
       "      <td>95.070175</td>\n",
       "      <td>76.437086</td>\n",
       "      <td>77.682353</td>\n",
       "      <td>65.978873</td>\n",
       "      <td>59.853933</td>\n",
       "      <td>102.254902</td>\n",
       "    </tr>\n",
       "    <tr>\n",
       "      <th>14</th>\n",
       "      <td>72.464286</td>\n",
       "      <td>70.540698</td>\n",
       "      <td>83.837696</td>\n",
       "      <td>65.146067</td>\n",
       "      <td>57.947368</td>\n",
       "      <td>89.432990</td>\n",
       "      <td>77.313559</td>\n",
       "    </tr>\n",
       "    <tr>\n",
       "      <th>15</th>\n",
       "      <td>53.873362</td>\n",
       "      <td>77.949153</td>\n",
       "      <td>65.662791</td>\n",
       "      <td>73.751381</td>\n",
       "      <td>57.660131</td>\n",
       "      <td>50.804124</td>\n",
       "      <td>80.680000</td>\n",
       "    </tr>\n",
       "    <tr>\n",
       "      <th>16</th>\n",
       "      <td>66.485577</td>\n",
       "      <td>66.107383</td>\n",
       "      <td>64.650000</td>\n",
       "      <td>59.734568</td>\n",
       "      <td>80.255814</td>\n",
       "      <td>71.776786</td>\n",
       "      <td>53.186441</td>\n",
       "    </tr>\n",
       "    <tr>\n",
       "      <th>17</th>\n",
       "      <td>80.936782</td>\n",
       "      <td>72.602649</td>\n",
       "      <td>66.124294</td>\n",
       "      <td>56.368098</td>\n",
       "      <td>55.903704</td>\n",
       "      <td>51.756757</td>\n",
       "      <td>127.601562</td>\n",
       "    </tr>\n",
       "    <tr>\n",
       "      <th>18</th>\n",
       "      <td>71.969231</td>\n",
       "      <td>82.908497</td>\n",
       "      <td>57.978873</td>\n",
       "      <td>53.830189</td>\n",
       "      <td>53.879433</td>\n",
       "      <td>60.495146</td>\n",
       "      <td>80.094828</td>\n",
       "    </tr>\n",
       "    <tr>\n",
       "      <th>19</th>\n",
       "      <td>67.203704</td>\n",
       "      <td>72.777778</td>\n",
       "      <td>56.326389</td>\n",
       "      <td>52.206250</td>\n",
       "      <td>65.559055</td>\n",
       "      <td>66.893204</td>\n",
       "      <td>64.870000</td>\n",
       "    </tr>\n",
       "    <tr>\n",
       "      <th>20</th>\n",
       "      <td>53.432099</td>\n",
       "      <td>54.285714</td>\n",
       "      <td>65.369231</td>\n",
       "      <td>69.000000</td>\n",
       "      <td>48.892857</td>\n",
       "      <td>57.511364</td>\n",
       "      <td>55.923729</td>\n",
       "    </tr>\n",
       "    <tr>\n",
       "      <th>21</th>\n",
       "      <td>52.917241</td>\n",
       "      <td>100.703448</td>\n",
       "      <td>75.381679</td>\n",
       "      <td>87.809091</td>\n",
       "      <td>81.893805</td>\n",
       "      <td>62.946667</td>\n",
       "      <td>67.696078</td>\n",
       "    </tr>\n",
       "    <tr>\n",
       "      <th>22</th>\n",
       "      <td>59.576577</td>\n",
       "      <td>56.326923</td>\n",
       "      <td>65.768595</td>\n",
       "      <td>60.831683</td>\n",
       "      <td>51.896226</td>\n",
       "      <td>78.573770</td>\n",
       "      <td>89.609195</td>\n",
       "    </tr>\n",
       "    <tr>\n",
       "      <th>23</th>\n",
       "      <td>61.306667</td>\n",
       "      <td>68.960000</td>\n",
       "      <td>73.727273</td>\n",
       "      <td>52.260870</td>\n",
       "      <td>51.333333</td>\n",
       "      <td>63.666667</td>\n",
       "      <td>56.682540</td>\n",
       "    </tr>\n",
       "  </tbody>\n",
       "</table>\n",
       "</div>"
      ],
      "text/plain": [
       "day_of_week     Monday     Tuesday  Wednesday    Thursday     Friday  \\\n",
       "hour                                                                   \n",
       "0            54.101010   58.785714  92.723577   48.670588  58.367816   \n",
       "1            67.737705   75.095238  87.153846   75.271186  54.258065   \n",
       "2            70.333333   65.846154  63.533333   74.430556  51.645161   \n",
       "3            70.255814  100.712121  67.403509   53.266667  45.103448   \n",
       "4            61.061224   55.057692  52.964912   49.222222  49.474576   \n",
       "5            49.823529   86.725490  85.733333   36.940000  48.553571   \n",
       "6            91.223881   57.327273  49.442308   51.594595  67.106061   \n",
       "7            79.851852   63.403846  59.272727   57.061538  49.325000   \n",
       "8            72.734177  113.527473  79.448718   75.783784  52.972603   \n",
       "9            41.570000   87.924731  40.523810   63.397436  45.607595   \n",
       "10           44.445652   44.964286  53.050633   65.211538  44.710843   \n",
       "11           85.610619   70.711538  63.010638  100.028037  88.862069   \n",
       "12           84.557692  102.964789  85.869565   84.715385  65.037037   \n",
       "13           85.192118   95.070175  76.437086   77.682353  65.978873   \n",
       "14           72.464286   70.540698  83.837696   65.146067  57.947368   \n",
       "15           53.873362   77.949153  65.662791   73.751381  57.660131   \n",
       "16           66.485577   66.107383  64.650000   59.734568  80.255814   \n",
       "17           80.936782   72.602649  66.124294   56.368098  55.903704   \n",
       "18           71.969231   82.908497  57.978873   53.830189  53.879433   \n",
       "19           67.203704   72.777778  56.326389   52.206250  65.559055   \n",
       "20           53.432099   54.285714  65.369231   69.000000  48.892857   \n",
       "21           52.917241  100.703448  75.381679   87.809091  81.893805   \n",
       "22           59.576577   56.326923  65.768595   60.831683  51.896226   \n",
       "23           61.306667   68.960000  73.727273   52.260870  51.333333   \n",
       "\n",
       "day_of_week   Saturday      Sunday  \n",
       "hour                                \n",
       "0            50.483871   56.701031  \n",
       "1            66.446809   81.671875  \n",
       "2            39.309524   48.434783  \n",
       "3            63.857143   44.500000  \n",
       "4            62.621622   55.119048  \n",
       "5            51.166667   62.555556  \n",
       "6            56.175000   65.395833  \n",
       "7            52.318182   47.781250  \n",
       "8            63.481481   58.820513  \n",
       "9            43.196078   41.615385  \n",
       "10           85.857143   55.298246  \n",
       "11           78.902439   49.305556  \n",
       "12           66.474576   54.480000  \n",
       "13           59.853933  102.254902  \n",
       "14           89.432990   77.313559  \n",
       "15           50.804124   80.680000  \n",
       "16           71.776786   53.186441  \n",
       "17           51.756757  127.601562  \n",
       "18           60.495146   80.094828  \n",
       "19           66.893204   64.870000  \n",
       "20           57.511364   55.923729  \n",
       "21           62.946667   67.696078  \n",
       "22           78.573770   89.609195  \n",
       "23           63.666667   56.682540  "
      ]
     },
     "execution_count": 15,
     "metadata": {},
     "output_type": "execute_result"
    }
   ],
   "source": [
    "reaction_df"
   ]
  },
  {
   "cell_type": "code",
   "execution_count": 16,
   "metadata": {},
   "outputs": [
    {
     "data": {
      "text/plain": [
       "<matplotlib.axes._subplots.AxesSubplot at 0x1140ad250>"
      ]
     },
     "execution_count": 16,
     "metadata": {},
     "output_type": "execute_result"
    },
    {
     "data": {
      "image/png": "[encoded data removed]",
      "text/plain": [
       "<Figure size 1152x1152 with 2 Axes>"
      ]
     },
     "metadata": {
      "needs_background": "light"
     },
     "output_type": "display_data"
    }
   ],
   "source": [
    "# Generate heatmap\n",
    "plt.figure(figsize=(16, 16))\n",
    "sns.heatmap(reaction_df , cmap=\"coolwarm\")"
   ]
  },
  {
   "cell_type": "markdown",
   "metadata": {},
   "source": [
    "## Outliers"
   ]
  },
  {
   "cell_type": "code",
   "execution_count": 17,
   "metadata": {
    "scrolled": false
   },
   "outputs": [
    {
     "data": {
      "text/plain": [
       "<matplotlib.axes._subplots.AxesSubplot at 0x11a575d10>"
      ]
     },
     "execution_count": 17,
     "metadata": {},
     "output_type": "execute_result"
    },
    {
     "data": {
      "image/png": "[encoded data removed]",
      "text/plain": [
       "<Figure size 432x288 with 1 Axes>"
      ]
     },
     "metadata": {
      "needs_background": "light"
     },
     "output_type": "display_data"
    }
   ],
   "source": [
    "# Checking for outliers\n",
    "sns.boxplot(reaction_df)"
   ]
  },
  {
   "cell_type": "code",
   "execution_count": 18,
   "metadata": {},
   "outputs": [],
   "source": [
    "outlier_df = df.copy()"
   ]
  },
  {
   "cell_type": "code",
   "execution_count": 19,
   "metadata": {},
   "outputs": [],
   "source": [
    "z = np.abs(stats.zscore(outlier_df[\"positive_reactions_count\"]))\n",
    "outlier_df = outlier_df[(z < 4)]"
   ]
  },
  {
   "cell_type": "code",
   "execution_count": 20,
   "metadata": {},
   "outputs": [],
   "source": [
    "reaction_df = outlier_df.groupby([\"day_of_week\", \"hour\"]) [\"positive_reactions_count\"].mean()\n",
    "\n",
    "#pivot and arrange columns\n",
    "reaction_df = reaction_df.reset_index().pivot('hour', 'day_of_week', 'positive_reactions_count')\n",
    "reaction_df = reaction_df[[\"Monday\", \"Tuesday\", \"Wednesday\", \"Thursday\", \"Friday\", \"Saturday\", \"Sunday\"]]"
   ]
  },
  {
   "cell_type": "code",
   "execution_count": 21,
   "metadata": {},
   "outputs": [
    {
     "data": {
      "text/plain": [
       "<matplotlib.axes._subplots.AxesSubplot at 0x11a6499d0>"
      ]
     },
     "execution_count": 21,
     "metadata": {},
     "output_type": "execute_result"
    },
    {
     "data": {
      "image/png": "[encoded data removed]",
      "text/plain": [
       "<Figure size 432x288 with 1 Axes>"
      ]
     },
     "metadata": {
      "needs_background": "light"
     },
     "output_type": "display_data"
    }
   ],
   "source": [
    "sns.boxplot(reaction_df)"
   ]
  },
  {
   "cell_type": "code",
   "execution_count": 22,
   "metadata": {
    "scrolled": true
   },
   "outputs": [
    {
     "data": {
      "text/plain": [
       "<matplotlib.axes._subplots.AxesSubplot at 0x119e89510>"
      ]
     },
     "execution_count": 22,
     "metadata": {},
     "output_type": "execute_result"
    },
    {
     "data": {
      "image/png": "[encoded data removed]",
      "text/plain": [
       "<Figure size 1152x1152 with 2 Axes>"
      ]
     },
     "metadata": {
      "needs_background": "light"
     },
     "output_type": "display_data"
    }
   ],
   "source": [
    "# Arranging columns and remaking heatmap without the outliers\n",
    "reaction_df = reaction_df[[\"Monday\", \"Tuesday\", \"Wednesday\", \"Thursday\", \"Friday\", \"Saturday\", \"Sunday\"]]\n",
    "plt.figure(figsize=(16, 16))\n",
    "sns.heatmap(reaction_df , cmap=\"coolwarm\")"
   ]
  },
  {
   "cell_type": "markdown",
   "metadata": {},
   "source": [
    "# Tag Specfic Heatmaps"
   ]
  },
  {
   "cell_type": "code",
   "execution_count": 23,
   "metadata": {},
   "outputs": [],
   "source": [
    "tag_df = outlier_df.copy()"
   ]
  },
  {
   "cell_type": "code",
   "execution_count": 24,
   "metadata": {},
   "outputs": [],
   "source": [
    "# Tag to find map for\n",
    "tag = 'discuss'\n",
    "\n",
    "tag_df = tag_df.loc[tag_df['tags'].str.contains(tag, case=False, na=False)]"
   ]
  },
  {
   "cell_type": "code",
   "execution_count": 25,
   "metadata": {},
   "outputs": [],
   "source": [
    "tag_df = tag_df.groupby([\"day_of_week\", \"hour\"]) [\"positive_reactions_count\"].mean()\n",
    "tag_df = tag_df.reset_index().pivot('hour', 'day_of_week', 'positive_reactions_count')\n",
    "tag_df = tag_df[[\"Monday\", \"Tuesday\", \"Wednesday\", \"Thursday\", \"Friday\", \"Saturday\", \"Sunday\"]]"
   ]
  },
  {
   "cell_type": "code",
   "execution_count": 26,
   "metadata": {},
   "outputs": [
    {
     "data": {
      "text/plain": [
       "<matplotlib.axes._subplots.AxesSubplot at 0x11a1f4c10>"
      ]
     },
     "execution_count": 26,
     "metadata": {},
     "output_type": "execute_result"
    },
    {
     "data": {
      "image/png": "[encoded data removed]",
      "text/plain": [
       "<Figure size 1152x1152 with 2 Axes>"
      ]
     },
     "metadata": {
      "needs_background": "light"
     },
     "output_type": "display_data"
    }
   ],
   "source": [
    "plt.figure(figsize=(16, 16))\n",
    "sns.heatmap(tag_df , cmap=\"coolwarm\")"
   ]
  },
  {
   "cell_type": "markdown",
   "metadata": {},
   "source": [
    "# Tag Popularity?"
   ]
  },
  {
   "cell_type": "code",
   "execution_count": 105,
   "metadata": {},
   "outputs": [],
   "source": [
    "popular_df = df.copy()"
   ]
  },
  {
   "cell_type": "code",
   "execution_count": 106,
   "metadata": {},
   "outputs": [],
   "source": [
    "z = np.abs(stats.zscore(popular_df[\"positive_reactions_count\"]))\n",
    "popular_df = popular_df[(z < .01)]"
   ]
  },
  {
   "cell_type": "code",
   "execution_count": 97,
   "metadata": {},
   "outputs": [
    {
     "data": {
      "text/plain": [
       "67.47572815533981"
      ]
     },
     "execution_count": 97,
     "metadata": {},
     "output_type": "execute_result"
    }
   ],
   "source": [
    "# Whats the average reacts? \n",
    "popular_df['positive_reactions_count'].mean()"
   ]
  },
  {
   "cell_type": "code",
   "execution_count": 107,
   "metadata": {},
   "outputs": [],
   "source": [
    "# Expand the Tag list into its own rows\n",
    "popular_df = popular_df.explode('tag_list')\n",
    "popular_df[\"tag_list\"] = popular_df[\"tag_list\"].fillna('None')"
   ]
  },
  {
   "cell_type": "code",
   "execution_count": 108,
   "metadata": {},
   "outputs": [],
   "source": [
    "popular_sum_df = popular_df.groupby(['tag_list'])[\"positive_reactions_count\"].mean()"
   ]
  },
  {
   "cell_type": "code",
   "execution_count": 109,
   "metadata": {},
   "outputs": [
    {
     "data": {
      "text/plain": [
       "tag_list\n",
       "xaas                  69.0\n",
       "nodemodules           69.0\n",
       "industry              69.0\n",
       "iran                  69.0\n",
       "wsl                   69.0\n",
       "json                  69.0\n",
       "kubernetes            69.0\n",
       "life                  69.0\n",
       "mobile                69.0\n",
       "motivation            69.0\n",
       "mysql                 69.0\n",
       "networking            69.0\n",
       "nginx                 69.0\n",
       "nosql                 69.0\n",
       "hoisting              69.0\n",
       "oauth                 69.0\n",
       "optimization          69.0\n",
       "performance           69.0\n",
       "personalnews          69.0\n",
       "privacy               69.0\n",
       "product               69.0\n",
       "random                69.0\n",
       "recursion             69.0\n",
       "redux                 69.0\n",
       "regex                 69.0\n",
       "rest                  69.0\n",
       "howto                 69.0\n",
       "graphql               69.0\n",
       "scala                 69.0\n",
       "culture               69.0\n",
       "HTML                  69.0\n",
       "Lazyloading           69.0\n",
       "algorithm             69.0\n",
       "angular               69.0\n",
       "apple                 69.0\n",
       "aspnetcore            69.0\n",
       "bioinformatics        69.0\n",
       "codingpractice        69.0\n",
       "compilation           69.0\n",
       "conference            69.0\n",
       "csharp                69.0\n",
       "customersupport       69.0\n",
       "googlemaps            69.0\n",
       "databases             69.0\n",
       "datascience           69.0\n",
       "devlids               69.0\n",
       "devtips               69.0\n",
       "distributedsystems    69.0\n",
       "docker                69.0\n",
       "email                 69.0\n",
       "Name: positive_reactions_count, dtype: float64"
      ]
     },
     "execution_count": 109,
     "metadata": {},
     "output_type": "execute_result"
    }
   ],
   "source": [
    "popular_sum_df.sort_values(ascending=False).head(50)"
   ]
  },
  {
   "cell_type": "code",
   "execution_count": null,
   "metadata": {},
   "outputs": [],
   "source": []
  }
 ],
 "metadata": {
  "kernelspec": {
   "display_name": "Python 3",
   "language": "python",
   "name": "python3"
  },
  "language_info": {
   "codemirror_mode": {
    "name": "ipython",
    "version": 3
   },
   "file_extension": ".py",
   "mimetype": "text/x-python",
   "name": "python",
   "nbconvert_exporter": "python",
   "pygments_lexer": "ipython3",
   "version": "3.7.6"
  }
 },
 "nbformat": 4,
 "nbformat_minor": 4
}
